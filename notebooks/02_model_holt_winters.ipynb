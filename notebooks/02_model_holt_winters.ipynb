{
 "cells": [
  {
   "cell_type": "markdown",
   "metadata": {},
   "source": [
    "# Data Load\n",
    "Notebook that showcases the required steps to explore and manipulate the data"
   ]
  },
  {
   "cell_type": "markdown",
   "metadata": {},
   "source": [
    "## Import Libraries"
   ]
  },
  {
   "cell_type": "code",
   "execution_count": null,
   "metadata": {},
   "outputs": [],
   "source": [
    "%load_ext autoreload\n",
    "%autoreload 2\n",
    "\n",
    "# Data Processing\n",
    "import pandas as pd\n",
    "import numpy as np\n",
    "from itertools import product\n",
    "import sys\n",
    "sys.path.append(\"../src\")\n",
    "\n",
    "# Local\n",
    "import ts_plots, ts_models, adhoc\n",
    "pd.set_option('display.max_rows', 500)"
   ]
  },
  {
   "cell_type": "markdown",
   "metadata": {},
   "source": [
    "## Data Load"
   ]
  },
  {
   "cell_type": "code",
   "execution_count": null,
   "metadata": {},
   "outputs": [],
   "source": [
    "ts = adhoc.load_data('../data/timeseries_azure.csv')"
   ]
  },
  {
   "cell_type": "code",
   "execution_count": null,
   "metadata": {},
   "outputs": [],
   "source": [
    "break_date = '2020-01-01'\n",
    "tot_ts = ts['CUB.Share.top.8']\n",
    "train = ts[ts.index<break_date]['CUB.Share.top.8']\n",
    "test = ts[(ts.index>=break_date)]['CUB.Share.top.8']"
   ]
  },
  {
   "cell_type": "code",
   "execution_count": null,
   "metadata": {},
   "outputs": [],
   "source": [
    "metric_dict = ts_models.check_stationary(tot_ts,threshold = '1%',show_plot = True)\n",
    "metric_dict"
   ]
  },
  {
   "cell_type": "markdown",
   "metadata": {},
   "source": [
    "## Model Definition\n",
    "\n",
    "#### Parameter Definition"
   ]
  },
  {
   "cell_type": "code",
   "execution_count": null,
   "metadata": {},
   "outputs": [],
   "source": [
    "seasonal_periods=None\n",
    "seasonal='mul'\n",
    "return_model = True"
   ]
  },
  {
   "cell_type": "markdown",
   "metadata": {},
   "source": [
    "**Train Test Check**"
   ]
  },
  {
   "cell_type": "code",
   "execution_count": null,
   "metadata": {},
   "outputs": [],
   "source": [
    "res_dict,model = ts_models.exponential_smoothing(train,test,seasonal_periods=seasonal_periods,\n",
    "                                                 seasonal=seasonal,return_model = True)\n",
    "\n",
    "fcast1 = model.predict(start=test.index[0], end=test.index[-1])\n",
    "res_dict"
   ]
  },
  {
   "cell_type": "code",
   "execution_count": null,
   "metadata": {},
   "outputs": [],
   "source": [
    "ts_plots.plot_exponential_smoothing_results(train = train, fcast = fcast1, test = test)"
   ]
  },
  {
   "cell_type": "markdown",
   "metadata": {},
   "source": [
    "#### 52-Week Forecast"
   ]
  },
  {
   "cell_type": "code",
   "execution_count": null,
   "metadata": {},
   "outputs": [],
   "source": [
    "res_dict,model = ts_models.exponential_smoothing(tot_ts,tot_ts,seasonal_periods=seasonal_periods,\n",
    "                                                 seasonal=seasonal,\n",
    "                                                 return_model = True)\n",
    "\n",
    "fcast1 = model.predict(start=tot_ts.index[0], end=tot_ts.index[-1])\n",
    "res_dict"
   ]
  },
  {
   "cell_type": "code",
   "execution_count": null,
   "metadata": {
    "scrolled": true
   },
   "outputs": [],
   "source": [
    "ts_plots.plot_exponential_smoothing_results(train = tot_ts, test = tot_ts, fcast = fcast1)"
   ]
  },
  {
   "cell_type": "code",
   "execution_count": null,
   "metadata": {},
   "outputs": [],
   "source": [
    "ts_plots.plot_errors(train = tot_ts, fcast = fcast1, model = model)"
   ]
  },
  {
   "cell_type": "markdown",
   "metadata": {},
   "source": [
    "## Final Model Run"
   ]
  },
  {
   "cell_type": "code",
   "execution_count": null,
   "metadata": {},
   "outputs": [],
   "source": [
    "tot52 = pd.date_range(start=tot_ts.index[-1], periods=53, freq='W-SUN')[1:]\n",
    "fcast52 = model.predict(start=tot52[0], end=tot52[-1])"
   ]
  },
  {
   "cell_type": "code",
   "execution_count": null,
   "metadata": {},
   "outputs": [],
   "source": [
    "ts_plots.plot_exponential_smoothing_results(train = tot_ts, test = None, fcast = fcast52)"
   ]
  },
  {
   "cell_type": "code",
   "execution_count": null,
   "metadata": {},
   "outputs": [],
   "source": [
    "fcast52.to_csv('../data/03_results/df_52week_forecast.csv')"
   ]
  }
 ],
 "metadata": {
  "kernelspec": {
   "display_name": "Python 3",
   "language": "python",
   "name": "python3"
  },
  "language_info": {
   "codemirror_mode": {
    "name": "ipython",
    "version": 3
   },
   "file_extension": ".py",
   "mimetype": "text/x-python",
   "name": "python",
   "nbconvert_exporter": "python",
   "pygments_lexer": "ipython3",
   "version": "3.8.5"
  }
 },
 "nbformat": 4,
 "nbformat_minor": 4
}
