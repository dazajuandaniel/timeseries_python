{
 "cells": [
  {
   "cell_type": "markdown",
   "metadata": {},
   "source": [
    "# Data Load\n",
    "Notebook that showcases the required steps to explore and manipulate the data"
   ]
  },
  {
   "cell_type": "markdown",
   "metadata": {},
   "source": [
    "## Import Libraries"
   ]
  },
  {
   "cell_type": "code",
   "execution_count": null,
   "metadata": {},
   "outputs": [],
   "source": [
    "%load_ext autoreload\n",
    "%autoreload 2\n",
    "\n",
    "import pandas as pd\n",
    "import numpy as np\n",
    "import sys\n",
    "\n",
    "sys.path.append(\"../src\")\n",
    "import ts_preprocess as edp\n",
    "import adhoc\n",
    "import ts_plots, ts_preprocess\n",
    "\n",
    "pd.set_option('display.max_rows', 500)"
   ]
  },
  {
   "cell_type": "markdown",
   "metadata": {},
   "source": [
    "## Data Preparation"
   ]
  },
  {
   "cell_type": "markdown",
   "metadata": {},
   "source": [
    "### Read Data Files"
   ]
  },
  {
   "cell_type": "code",
   "execution_count": null,
   "metadata": {},
   "outputs": [],
   "source": [
    "all_files = adhoc.adhoc_read_data()"
   ]
  },
  {
   "cell_type": "code",
   "execution_count": null,
   "metadata": {},
   "outputs": [],
   "source": [
    "all_files = adhoc.adhoc_merge_columns(all_files)"
   ]
  },
  {
   "cell_type": "code",
   "execution_count": null,
   "metadata": {},
   "outputs": [],
   "source": [
    "ts_df = ts_preprocess.create_timeseries_series(all_files, ['Time','CUB.Share.top.8'], 'W')"
   ]
  },
  {
   "cell_type": "markdown",
   "metadata": {},
   "source": [
    "## Data Visualisation"
   ]
  },
  {
   "cell_type": "code",
   "execution_count": null,
   "metadata": {
    "scrolled": true
   },
   "outputs": [],
   "source": [
    "ts_preprocess.validate_datetime_index(ts_df)"
   ]
  },
  {
   "cell_type": "code",
   "execution_count": null,
   "metadata": {},
   "outputs": [],
   "source": [
    "ts_plots.plot_timeseries_columns(all_files)"
   ]
  },
  {
   "cell_type": "code",
   "execution_count": null,
   "metadata": {},
   "outputs": [],
   "source": [
    "ts_plots.plot_timeseries_columns(ts_df)"
   ]
  },
  {
   "cell_type": "markdown",
   "metadata": {},
   "source": [
    "**Observations**\n",
    "* Slightly Positive trend throughout time\n",
    "* Seasonal pattern observed with peaks ocurring in December\n",
    "* Potentially a cyclic pattern"
   ]
  },
  {
   "cell_type": "markdown",
   "metadata": {},
   "source": [
    "## Timeseries Plots"
   ]
  },
  {
   "cell_type": "code",
   "execution_count": null,
   "metadata": {
    "scrolled": true
   },
   "outputs": [],
   "source": [
    "ts_plots.plot_timerseries_decomposition(ts_df, model='multiplicative',path_html = '../data/reports/data_decomposition.html')"
   ]
  },
  {
   "cell_type": "code",
   "execution_count": null,
   "metadata": {},
   "outputs": [],
   "source": [
    "ts_plots.plot_autocorrelation(ts_df,nlags = 52,path_html = '../data/reports/data_autocorrelation.html')"
   ]
  },
  {
   "cell_type": "code",
   "execution_count": null,
   "metadata": {},
   "outputs": [],
   "source": [
    "df = ts_df.to_frame()\n",
    "df['week'] = ts_df.index.week\n",
    "df['month'] = ts_df.index.month\n",
    "df['year'] = ts_df.index.year\n",
    "df = df.sort_values(by = ['year','week','month'])\n",
    "\n",
    "ts_plots.plot_timeseries_columns(df)"
   ]
  },
  {
   "cell_type": "markdown",
   "metadata": {},
   "source": [
    "## Save data"
   ]
  },
  {
   "cell_type": "code",
   "execution_count": null,
   "metadata": {},
   "outputs": [],
   "source": [
    "# Save data\n",
    "all_files.to_parquet('../data/02_processed_data/df_full.parquet')\n",
    "all_files.to_csv('../data/02_processed_data/df_full.csv')\n",
    "\n",
    "# Save data for Azure\n",
    "ts_df.to_csv('../data/02_processed_data/df_azure.csv',header = True)\n",
    "\n",
    "# Save data for AWS Forecast\n",
    "aws_forecast = ts_df.to_frame().copy()\n",
    "aws_forecast['item_id'] = 1\n",
    "aws_forecast.to_csv('../data/02_processed_data/df_aws.csv', header = True)"
   ]
  }
 ],
 "metadata": {
  "kernelspec": {
   "display_name": "Python 3",
   "language": "python",
   "name": "python3"
  },
  "language_info": {
   "codemirror_mode": {
    "name": "ipython",
    "version": 3
   },
   "file_extension": ".py",
   "mimetype": "text/x-python",
   "name": "python",
   "nbconvert_exporter": "python",
   "pygments_lexer": "ipython3",
   "version": "3.8.5"
  }
 },
 "nbformat": 4,
 "nbformat_minor": 4
}
